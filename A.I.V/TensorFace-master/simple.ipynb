{
 "cells": [
  {
   "cell_type": "code",
   "execution_count": 1,
   "metadata": {},
   "outputs": [],
   "source": [
    "import vggface\n",
    "from pprint import pprint\n",
    "import tensorflow as tf\n",
    "input_placeholder = tf.placeholder(tf.float32, shape=(1, 224, 224, 3))\n",
    "network = vggface.VGGFace()"
   ]
  },
  {
   "cell_type": "code",
   "execution_count": 2,
   "metadata": {},
   "outputs": [
    {
     "name": "stdout",
     "output_type": "stream",
     "text": [
      "[(13.686731, 'Aamir_Khan'),\n",
      " (8.4711819, 'Adam_Driver'),\n",
      " (8.0207777, 'Manish_Dayal'),\n",
      " (7.2776313, 'John_Abraham'),\n",
      " (6.8999376, 'Jacob_Artist'),\n",
      " (6.5390964, 'Adam_Copeland'),\n",
      " (6.4980922, 'Adrian_Paul'),\n",
      " (6.4170547, 'Akshay_Kumar'),\n",
      " (6.3718734, 'D.B._Woodside'),\n",
      " (6.0774565, 'Ajay_Devgn')]\n"
     ]
    }
   ],
   "source": [
    "ses = tf.InteractiveSession()\n",
    "network.load(ses,input_placeholder)\n",
    "output = network.eval(feed_dict={input_placeholder:vggface.load_image('test/ak.png')})[0]\n",
    "pprint(sorted([(v,network.names[k]) for k,v in enumerate(output)],reverse=True)[:10])"
   ]
  },
  {
   "cell_type": "code",
   "execution_count": 3,
   "metadata": {},
   "outputs": [
    {
     "name": "stdout",
     "output_type": "stream",
     "text": [
      "[(16.027517, 'Miranda_Kerr'),\n",
      " (10.035413, 'India_Eisley'),\n",
      " (8.8447618, 'Eleanor_Tomlinson'),\n",
      " (8.6421347, 'Candice_Swanepoel'),\n",
      " (8.5083313, 'Rosie_Huntington-Whiteley'),\n",
      " (8.4369011, 'Rose_McIver'),\n",
      " (8.206625, 'Natalie_Dormer'),\n",
      " (8.177474, 'Emma_Rigby'),\n",
      " (7.9884825, 'Rachel_McAdams'),\n",
      " (7.958292, 'Alexis_Knapp')]\n"
     ]
    }
   ],
   "source": [
    "output = network.eval(feed_dict={input_placeholder:vggface.load_image('test/mk2.png')})[0]\n",
    "pprint(sorted([(v,network.names[k]) for k,v in enumerate(output)],reverse=True)[:10])"
   ]
  },
  {
   "cell_type": "code",
   "execution_count": 4,
   "metadata": {},
   "outputs": [],
   "source": [
    "ses.close()"
   ]
  }
 ],
 "metadata": {
  "kernelspec": {
   "display_name": "Python 2",
   "language": "python",
   "name": "python2"
  },
  "language_info": {
   "codemirror_mode": {
    "name": "ipython",
    "version": 2.0
   },
   "file_extension": ".py",
   "mimetype": "text/x-python",
   "name": "python",
   "nbconvert_exporter": "python",
   "pygments_lexer": "ipython2",
   "version": "2.7.10"
  }
 },
 "nbformat": 4,
 "nbformat_minor": 0
}